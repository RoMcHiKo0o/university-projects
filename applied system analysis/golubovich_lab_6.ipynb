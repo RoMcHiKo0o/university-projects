{
 "cells": [
  {
   "cell_type": "markdown",
   "metadata": {},
   "source": [
    "# Лабораторная работа 6\n",
    "\n",
    "## Общая информация\n",
    "\n",
    "**Дата выдачи**: 05.12.2022/09.12.2022\n",
    "\n",
    "**Срок сдачи**: 19.12.2022/23.12.2022 *(Но требуется обязательная демонстрация текущего прогресса преподавателю во время лабораторного занятия 12.12.2022/16.12.2022)*\n",
    "\n",
    "### О задании\n",
    "Целью данного задания является приобретение навыков работы с текстом, обучение моделей классификации на этих данных. \n",
    "\n",
    "### Оценивание и штрафы\n",
    "Максимально допустимая оценка за работу — 10 баллов.\n",
    "\n",
    "Сдача заданий после указанного срока сдачи ведёт к снижению оценки.\n",
    "\n",
    "Задание выполняется САМОСТОЯТЕЛЬНО. «Похожие» решения считаются плагиатом и все задействованные студенты (в том числе те, у кого списали) не могут получить за него больше 0 баллов. Если вы нашли решение какого-то из заданий в открытом источнике, необходимо прислать ссылку на этот источник (скорее всего вы будете не единственным, кто это нашел, поэтому чтобы исключить подозрение в плагиате, необходима ссылка на источник). \n",
    "\n",
    "### Формат сдачи\n",
    "Устная защита выполненной лабораторной работы ОБЯЗАТЕЛЬНА!\n",
    "\n",
    "После успешной устной защиты переименуйте получившийся файл `*.ipynb` в соответствии со следующим форматом: *Username_lab_6.ipynb*, где Username — ваша фамилия на латинице (например, `lehusheu_lab_6.ipynb`) и отправьте этот файл электронной почтой по адресу `dmitri.legushev.bsu@gmail.com` c темой письма *Фамилия преподавателя - Лабораторная работа 6 - Фамилия Имя Отчество* (для обоих подгрупп). Подгруппа Атрохова Кирилла Георгиевича также ставит в копию адрес `kiryl.atrokhau+ml2022@gmail.com`. Это будет являться письменным отчетом о выполнении лабораторной работы."
   ]
  },
  {
   "cell_type": "markdown",
   "metadata": {},
   "source": [
    "**Задача:** В Швейцарии 4 диалекта немецкого языка. Цель лабораторной работы -- предсказать диалект по фрагменту разговорной речи.\n",
    "\n",
    "**Данные:**\n",
    "\n",
    "Описание файлов:\n",
    "- train.csv - обучающая выборка\n",
    "- test.csv - тестовая выборка\n",
    "- sampleSubmission.csv - пример результирующего файла для его сабмита на кэгл\n",
    "\n",
    "Описание колонок:\n",
    "- Id - уникальный индекс для тестовой выборки (test.csv)\n",
    "- Text - фрагмент речи\n",
    "- Label - целевой класс языка для конкретного фрагмента речи (train.csv)\n",
    "- Prediction - предсказанный класс языка (sampleSubmission.csv)\n",
    "\n",
    "Описание классов:\n",
    "\n",
    "`BE Bernese\n",
    " LU Lucerne\n",
    " ZH Zurich\n",
    " BS Basel`\n",
    "    \n",
    "    \n",
    "**Подробнее о данных:** https://www.kaggle.com/competitions/swiss-dialect-identification/data "
   ]
  },
  {
   "cell_type": "code",
   "execution_count": 1,
   "metadata": {},
   "outputs": [],
   "source": [
    "import pandas as pd\n",
    "import numpy as np\n",
    "import seaborn as sns\n",
    "from scipy.sparse import csr_matrix\n",
    "from sklearn.feature_extraction.text import CountVectorizer, TfidfVectorizer\n",
    "from sklearn.preprocessing import LabelEncoder, OneHotEncoder\n",
    "from sklearn.model_selection import train_test_split\n",
    "\n",
    "from sklearn.ensemble import RandomForestClassifier, GradientBoostingClassifier\n",
    "from sklearn.metrics import accuracy_score\n",
    "from sklearn.linear_model import SGDClassifier\n",
    "\n",
    "\n",
    "import keras\n",
    "from tensorflow.keras import Sequential\n",
    "from tensorflow.keras.layers import Dense,Dropout,Flatten\n",
    "from tensorflow.keras.activations import softmax, relu\n",
    "from tensorflow.keras import regularizers\n",
    "from tensorflow.keras.losses import SparseCategoricalCrossentropy\n",
    "from tensorflow.keras.optimizers import Adam, Adamax\n",
    "from tensorflow.keras.regularizers import L2\n",
    "from livelossplot import PlotLossesKeras"
   ]
  },
  {
   "cell_type": "markdown",
   "metadata": {},
   "source": [
    "1. Загрузить датафреймы через pandas. Выполнить предобработку `Bag of Words`."
   ]
  },
  {
   "cell_type": "code",
   "execution_count": 64,
   "metadata": {},
   "outputs": [],
   "source": [
    "train = pd.read_csv('data/train.csv')"
   ]
  },
  {
   "cell_type": "code",
   "execution_count": 56,
   "metadata": {
    "collapsed": true
   },
   "outputs": [
    {
     "data": {
      "text/plain": [
       "Text     15616\n",
       "Label    15616\n",
       "dtype: int64"
      ]
     },
     "execution_count": 56,
     "metadata": {},
     "output_type": "execute_result"
    }
   ],
   "source": [
    "train.count()"
   ]
  },
  {
   "cell_type": "code",
   "execution_count": 264,
   "metadata": {},
   "outputs": [
    {
     "data": {
      "text/plain": [
       "array([[1, 0, 0],\n",
       "       [0, 2, 0],\n",
       "       [0, 0, 3]], dtype=int32)"
      ]
     },
     "execution_count": 264,
     "metadata": {},
     "output_type": "execute_result"
    }
   ],
   "source": [
    "csr_matrix(np.diag([1,2,3])).toarray()"
   ]
  },
  {
   "cell_type": "code",
   "execution_count": 265,
   "metadata": {},
   "outputs": [],
   "source": [
    "cntvr = CountVectorizer()\n",
    "bow_train = cntvr.fit_transform(train.Text)"
   ]
  },
  {
   "cell_type": "code",
   "execution_count": 4,
   "metadata": {},
   "outputs": [],
   "source": [
    "bow_train_st = StandardScaler().fit_transform(bow_train.toarray())\n",
    "bow_train_mm = MinMaxScaler().fit_transform(bow_train.toarray())"
   ]
  },
  {
   "cell_type": "code",
   "execution_count": 3,
   "metadata": {},
   "outputs": [],
   "source": [
    "le = LabelEncoder()\n",
    "train.Label = le.fit_transform(train.Label)"
   ]
  },
  {
   "cell_type": "code",
   "execution_count": 267,
   "metadata": {},
   "outputs": [],
   "source": [
    "X_train, X_test, y_train, y_test = train_test_split(bow_train, train.Label, random_state=42, test_size=0.1)"
   ]
  },
  {
   "cell_type": "markdown",
   "metadata": {},
   "source": [
    "2. Обучить различные модели `Random forest`, `Gradient boosting`, `SGD classifier` и тд (можно попробовать полносвязную нейронную сеть), снять метрику `accuracy` на валидационных данных."
   ]
  },
  {
   "cell_type": "markdown",
   "metadata": {},
   "source": [
    "### Random Forest"
   ]
  },
  {
   "cell_type": "code",
   "execution_count": 6,
   "metadata": {},
   "outputs": [],
   "source": [
    "rf = RandomForestClassifier(n_jobs=-1)\n",
    "rf.fit(X_train,y_train)\n",
    "\n",
    "pred = rf.predict(X_test)"
   ]
  },
  {
   "cell_type": "code",
   "execution_count": 7,
   "metadata": {},
   "outputs": [
    {
     "name": "stdout",
     "output_type": "stream",
     "text": [
      "0.7189500640204866\n"
     ]
    }
   ],
   "source": [
    "print(accuracy_score(pred, y_test))"
   ]
  },
  {
   "cell_type": "markdown",
   "metadata": {},
   "source": [
    "### Gradient Boosting"
   ]
  },
  {
   "cell_type": "code",
   "execution_count": 8,
   "metadata": {},
   "outputs": [],
   "source": [
    "gb = GradientBoostingClassifier()\n",
    "gb.fit(X_train, y_train)\n",
    "\n",
    "pred = gb.predict(X_test)"
   ]
  },
  {
   "cell_type": "code",
   "execution_count": 9,
   "metadata": {},
   "outputs": [
    {
     "name": "stdout",
     "output_type": "stream",
     "text": [
      "0.674775928297055\n"
     ]
    }
   ],
   "source": [
    "print(accuracy_score(pred, y_test))"
   ]
  },
  {
   "cell_type": "markdown",
   "metadata": {},
   "source": [
    "### SGD classifier"
   ]
  },
  {
   "cell_type": "code",
   "execution_count": 133,
   "metadata": {},
   "outputs": [],
   "source": [
    "sgd = SGDClassifier(n_jobs=-1,penalty='l2')\n",
    "sgd.fit(X_train,y_train)\n",
    "pred = sgd.predict(X_test)"
   ]
  },
  {
   "cell_type": "code",
   "execution_count": 134,
   "metadata": {},
   "outputs": [
    {
     "name": "stdout",
     "output_type": "stream",
     "text": [
      "0.8111395646606914\n"
     ]
    }
   ],
   "source": [
    "print(accuracy_score(pred, y_test))"
   ]
  },
  {
   "cell_type": "code",
   "execution_count": 268,
   "metadata": {},
   "outputs": [],
   "source": [
    "X_train2 = np.array(X_train.toarray())\n",
    "X_train2 = X_train2.reshape(*X_train2.shape,1)"
   ]
  },
  {
   "cell_type": "code",
   "execution_count": 269,
   "metadata": {},
   "outputs": [],
   "source": [
    "ohe = OneHotEncoder(sparse=False)\n",
    "y_train2 = ohe.fit_transform(np.array(y_train).reshape(-1,1))\n",
    "#tmp = y_train2.shape\n",
    "#y_train2 = y_train2.reshape(*tmp,1)"
   ]
  },
  {
   "cell_type": "code",
   "execution_count": 270,
   "metadata": {},
   "outputs": [],
   "source": [
    "X_test2 = np.array(X_test.toarray())\n",
    "X_test2 = X_test2.reshape(*X_test2.shape,1)"
   ]
  },
  {
   "cell_type": "code",
   "execution_count": 271,
   "metadata": {},
   "outputs": [],
   "source": [
    "y_test2 = ohe.fit_transform(np.array(y_test).reshape(-1,1))\n",
    "#tmp = y_test2.shape\n",
    "#y_test2 = y_test2.reshape(*tmp,1)"
   ]
  },
  {
   "cell_type": "markdown",
   "metadata": {},
   "source": [
    "### NN"
   ]
  },
  {
   "cell_type": "code",
   "execution_count": 280,
   "metadata": {},
   "outputs": [],
   "source": [
    "model = Sequential([\n",
    "    Dense(16, input_shape = X_train2[0].shape, activation=relu, kernel_regularizer = L2(1e-4)),\n",
    "    Dense(32, activation=relu, kernel_regularizer = L2(1e-4)),\n",
    "    Dense(16, activation=relu, kernel_regularizer = L2(1e-4)),\n",
    "    Flatten(),\n",
    "    Dense(4, activation='softmax', kernel_regularizer = L2(1e-4))\n",
    "])\n",
    "\n",
    "model.compile(loss='categorical_crossentropy', optimizer=Adam(), metrics=['accuracy'])"
   ]
  },
  {
   "cell_type": "code",
   "execution_count": 286,
   "metadata": {},
   "outputs": [],
   "source": [
    "model.save('model1.h5')"
   ]
  },
  {
   "cell_type": "code",
   "execution_count": 285,
   "metadata": {},
   "outputs": [
    {
     "name": "stdout",
     "output_type": "stream",
     "text": [
      "282/282 [==============================] - 118s 419ms/step - loss: 0.2869 - accuracy: 0.9113 - val_loss: 0.5095 - val_accuracy: 0.8111\n",
      "49/49 [==============================] - 6s 130ms/step - loss: 0.5095 - accuracy: 0.8111\n",
      "accuracy =  0.8111395835876465\n"
     ]
    }
   ],
   "source": [
    "model.fit(X_train2, y_train2, epochs=1, batch_size=50,verbose=1,validation_data = [X_test2,y_test2])\n",
    "\n",
    "res = model.evaluate(X_test2,y_test2)\n",
    "print('accuracy = ', res[1])"
   ]
  },
  {
   "cell_type": "code",
   "execution_count": 287,
   "metadata": {},
   "outputs": [],
   "source": [
    "best_model = keras.models.load_model('model1.h5')"
   ]
  },
  {
   "cell_type": "code",
   "execution_count": 288,
   "metadata": {},
   "outputs": [
    {
     "name": "stdout",
     "output_type": "stream",
     "text": [
      "49/49 [==============================] - 6s 127ms/step - loss: 0.5095 - accuracy: 0.8111\n",
      "accuracy =  0.8111395835876465\n"
     ]
    }
   ],
   "source": [
    "res = best_model.evaluate(X_test2,y_test2)\n",
    "print('accuracy = ', res[1])"
   ]
  },
  {
   "cell_type": "markdown",
   "metadata": {},
   "source": [
    "3. Выполнить предобработку `tf-idf`, поварировать параметры предобработки. Обучить модели. Как изменилось качество моделей с предобработкой `Bag of words` и `tf-idf`?"
   ]
  },
  {
   "cell_type": "code",
   "execution_count": 197,
   "metadata": {},
   "outputs": [],
   "source": [
    "lst = np.linspace(0.001,0.2,30)\n",
    "res = []\n",
    "for i in lst:\n",
    "    tfidf = TfidfVectorizer(max_df=i)\n",
    "    tfidf_train = tfidf.fit_transform(train.Text)\n",
    "    X_train_tf, X_test_tf, y_train_tf, y_test_tf = train_test_split(tfidf_train, train.Label, random_state=42, test_size=0.1)\n",
    "    sgd = SGDClassifier(n_jobs=-1)\n",
    "    sgd.fit(X_train_tf,y_train_tf)\n",
    "    pred = sgd.predict(X_test_tf)\n",
    "    res.append(accuracy_score(pred, y_test_tf))"
   ]
  },
  {
   "cell_type": "code",
   "execution_count": 199,
   "metadata": {},
   "outputs": [
    {
     "data": {
      "text/plain": [
       "<AxesSubplot:>"
      ]
     },
     "execution_count": 199,
     "metadata": {},
     "output_type": "execute_result"
    },
    {
     "data": {
      "image/png": "[encoded data removed]",
      "text/plain": [
       "<Figure size 432x288 with 1 Axes>"
      ]
     },
     "metadata": {
      "needs_background": "light"
     },
     "output_type": "display_data"
    }
   ],
   "source": [
    "sns.lineplot(x=lst,y=res)"
   ]
  },
  {
   "cell_type": "code",
   "execution_count": 46,
   "metadata": {},
   "outputs": [],
   "source": [
    "best = 0.085"
   ]
  },
  {
   "cell_type": "code",
   "execution_count": 47,
   "metadata": {},
   "outputs": [],
   "source": [
    "tfidf = TfidfVectorizer(max_df=best)\n",
    "tfidf_train = tfidf.fit_transform(train.Text)"
   ]
  },
  {
   "cell_type": "code",
   "execution_count": 49,
   "metadata": {},
   "outputs": [
    {
     "name": "stdout",
     "output_type": "stream",
     "text": [
      "0.8104993597951344\n"
     ]
    }
   ],
   "source": [
    "X_train_tf, X_test_tf, y_train_tf, y_test_tf = train_test_split(tfidf_train, train.Label, random_state=42, test_size=0.1)\n",
    "sgd = SGDClassifier(n_jobs=-1)\n",
    "sgd.fit(X_train_tf,y_train_tf)\n",
    "pred = sgd.predict(X_test_tf)\n",
    "print(accuracy_score(pred, y_test_tf))"
   ]
  },
  {
   "cell_type": "markdown",
   "metadata": {},
   "source": [
    "### Random Forest"
   ]
  },
  {
   "cell_type": "code",
   "execution_count": 206,
   "metadata": {},
   "outputs": [
    {
     "name": "stdout",
     "output_type": "stream",
     "text": [
      "0.7202304737516005\n"
     ]
    }
   ],
   "source": [
    "rf = RandomForestClassifier(n_jobs=-1)\n",
    "rf.fit(X_train_tf,y_train_tf)\n",
    "\n",
    "pred = rf.predict(X_test_tf)\n",
    "\n",
    "print(accuracy_score(pred, y_test_tf))"
   ]
  },
  {
   "cell_type": "markdown",
   "metadata": {},
   "source": [
    "### Gradient Boosting"
   ]
  },
  {
   "cell_type": "code",
   "execution_count": 207,
   "metadata": {},
   "outputs": [
    {
     "name": "stdout",
     "output_type": "stream",
     "text": [
      "0.6766965428937259\n"
     ]
    }
   ],
   "source": [
    "gb = GradientBoostingClassifier()\n",
    "gb.fit(X_train_tf, y_train_tf)\n",
    "\n",
    "pred = gb.predict(X_test_tf)\n",
    "\n",
    "print(accuracy_score(pred, y_test_tf))"
   ]
  },
  {
   "cell_type": "code",
   "execution_count": 50,
   "metadata": {},
   "outputs": [],
   "source": [
    "X_train2 = np.array(X_train_tf.toarray())\n",
    "X_train2 = X_train2.reshape(*X_train2.shape,1)\n",
    "\n",
    "ohe = OneHotEncoder(sparse=False)\n",
    "y_train2 = ohe.fit_transform(np.array(y_train_tf).reshape(-1,1))\n",
    "#tmp = y_train2.shape\n",
    "#y_train2 = y_train2.reshape(*tmp,1)\n",
    "\n",
    "X_test2 = np.array(X_test_tf.toarray())\n",
    "X_test2 = X_test2.reshape(*X_test2.shape,1)\n",
    "\n",
    "y_test2 = ohe.fit_transform(np.array(y_test_tf).reshape(-1,1))\n",
    "#tmp = y_test2.shape\n",
    "#y_test2 = y_test2.reshape(*tmp,1)"
   ]
  },
  {
   "cell_type": "markdown",
   "metadata": {},
   "source": [
    "### NN"
   ]
  },
  {
   "cell_type": "code",
   "execution_count": 291,
   "metadata": {},
   "outputs": [],
   "source": [
    "model = Sequential([\n",
    "    Dense(16, input_shape = X_train2[0].shape, activation=relu, kernel_regularizer = L2(1e-4)),\n",
    "    Dense(32, activation=relu, kernel_regularizer = L2(1e-4)),\n",
    "    Dense(16, activation=relu, kernel_regularizer = L2(1e-4)),\n",
    "    Flatten(),\n",
    "    Dense(4, activation='softmax', kernel_regularizer = L2(1e-4))\n",
    "])\n",
    "\n",
    "model.compile(loss='categorical_crossentropy', optimizer=Adam(), metrics=['accuracy'])"
   ]
  },
  {
   "cell_type": "code",
   "execution_count": 257,
   "metadata": {},
   "outputs": [],
   "source": [
    "model.save('model3.h5')"
   ]
  },
  {
   "cell_type": "code",
   "execution_count": 296,
   "metadata": {},
   "outputs": [
    {
     "name": "stdout",
     "output_type": "stream",
     "text": [
      "282/282 [==============================] - 113s 401ms/step - loss: 0.1552 - accuracy: 0.9631 - val_loss: 0.5667 - val_accuracy: 0.8156\n"
     ]
    },
    {
     "data": {
      "text/plain": [
       "<keras.callbacks.History at 0x1760be70e50>"
      ]
     },
     "execution_count": 296,
     "metadata": {},
     "output_type": "execute_result"
    }
   ],
   "source": [
    "model.fit(X_train2, y_train2, epochs=1, batch_size=50,verbose=1,validation_data = [X_test2,y_test2])\n"
   ]
  },
  {
   "cell_type": "code",
   "execution_count": 297,
   "metadata": {},
   "outputs": [],
   "source": [
    "best_model = keras.models.load_model('model3.h5')"
   ]
  },
  {
   "cell_type": "code",
   "execution_count": 260,
   "metadata": {},
   "outputs": [
    {
     "name": "stdout",
     "output_type": "stream",
     "text": [
      "49/49 [==============================] - 7s 138ms/step - loss: 0.5000 - accuracy: 0.8291\n",
      "accuracy =  0.8290653228759766\n"
     ]
    }
   ],
   "source": [
    "res = best_model.evaluate(X_test2,y_test2)\n",
    "print('accuracy = ', res[1])"
   ]
  },
  {
   "cell_type": "markdown",
   "metadata": {},
   "source": [
    "4. Подумать как могут н-граммы слов или символов улучшить результата для предсказания языка. Попробовать составить токены n-gramm слов или символов и обучить выбранные модели на них. "
   ]
  },
  {
   "cell_type": "code",
   "execution_count": 57,
   "metadata": {},
   "outputs": [],
   "source": [
    "##stop_data = pd.read_csv('stopwords.csv')"
   ]
  },
  {
   "cell_type": "code",
   "execution_count": 58,
   "metadata": {},
   "outputs": [],
   "source": [
    "##stop_list = stop_data.values.reshape(1,-1)[0].tolist()"
   ]
  },
  {
   "cell_type": "code",
   "execution_count": 22,
   "metadata": {},
   "outputs": [
    {
     "data": {
      "text/plain": [
       "<AxesSubplot:>"
      ]
     },
     "execution_count": 22,
     "metadata": {},
     "output_type": "execute_result"
    },
    {
     "data": {
      "image/png": "[encoded data removed]",
      "text/plain": [
       "<Figure size 432x288 with 1 Axes>"
      ]
     },
     "metadata": {
      "needs_background": "light"
     },
     "output_type": "display_data"
    }
   ],
   "source": [
    "lst = np.linspace(0.5,0.6,50)\n",
    "res = []\n",
    "for i in lst:\n",
    "    tfidf = TfidfVectorizer(ngram_range=(1,2), max_df=i)\n",
    "    tfidf_train = tfidf.fit_transform(train.Text)\n",
    "    X_train_tf, X_test_tf, y_train_tf, y_test_tf = train_test_split(tfidf_train, train.Label, random_state=42, test_size=0.1)\n",
    "    sgd = SGDClassifier(n_jobs=-1)\n",
    "    sgd.fit(X_train_tf,y_train_tf)\n",
    "    pred = sgd.predict(X_test_tf)\n",
    "    res.append(accuracy_score(pred, y_test_tf))\n",
    "\n",
    "sns.lineplot(x=lst,y=res)"
   ]
  },
  {
   "cell_type": "code",
   "execution_count": null,
   "metadata": {},
   "outputs": [],
   "source": []
  },
  {
   "cell_type": "code",
   "execution_count": 25,
   "metadata": {},
   "outputs": [],
   "source": [
    "cntvr = TfidfVectorizer(ngram_range=(1,2), max_df=0.55)\n",
    "bow_train2 = cntvr.fit_transform(train.Text)\n",
    "bow_train2 = bow_train2.astype('float32')"
   ]
  },
  {
   "cell_type": "code",
   "execution_count": 26,
   "metadata": {},
   "outputs": [],
   "source": [
    "X_train, X_test, y_train, y_test = train_test_split(bow_train2, train.Label, random_state=42, test_size=0.1)"
   ]
  },
  {
   "cell_type": "markdown",
   "metadata": {},
   "source": [
    "### Random Forest"
   ]
  },
  {
   "cell_type": "code",
   "execution_count": 61,
   "metadata": {},
   "outputs": [
    {
     "name": "stdout",
     "output_type": "stream",
     "text": [
      "0.6978233034571063\n"
     ]
    }
   ],
   "source": [
    "rf = RandomForestClassifier(n_jobs=-1)\n",
    "rf.fit(X_train,y_train)\n",
    "\n",
    "pred = rf.predict(X_test)\n",
    "\n",
    "print(accuracy_score(pred, y_test))"
   ]
  },
  {
   "cell_type": "markdown",
   "metadata": {},
   "source": [
    "### Gradient Boosting"
   ]
  },
  {
   "cell_type": "code",
   "execution_count": 56,
   "metadata": {},
   "outputs": [
    {
     "name": "stdout",
     "output_type": "stream",
     "text": [
      "0.6542893725992317\n"
     ]
    }
   ],
   "source": [
    "gb = GradientBoostingClassifier()\n",
    "gb.fit(X_train, y_train)\n",
    "\n",
    "pred = gb.predict(X_test)\n",
    "\n",
    "print(accuracy_score(pred, y_test))"
   ]
  },
  {
   "cell_type": "markdown",
   "metadata": {},
   "source": [
    "### SGD classifier"
   ]
  },
  {
   "cell_type": "code",
   "execution_count": 35,
   "metadata": {},
   "outputs": [
    {
     "name": "stdout",
     "output_type": "stream",
     "text": [
      "0.8060179257362355\n"
     ]
    }
   ],
   "source": [
    "sgd = SGDClassifier(n_jobs=-1)\n",
    "sgd.fit(X_train,y_train)\n",
    "pred = sgd.predict(X_test)\n",
    "\n",
    "print(accuracy_score(pred, y_test))"
   ]
  },
  {
   "cell_type": "code",
   "execution_count": 38,
   "metadata": {},
   "outputs": [],
   "source": [
    "X_train2 = np.array(X_train.toarray())\n",
    "X_train2 = X_train2.reshape(*X_train2.shape,1)\n",
    "\n",
    "ohe = OneHotEncoder(sparse=False)\n",
    "y_train2 = ohe.fit_transform(np.array(y_train).reshape(-1,1))\n",
    "#tmp = y_train2.shape\n",
    "#y_train2 = y_train2.reshape(*tmp,1)\n",
    "\n",
    "X_test2 = np.array(X_test.toarray())\n",
    "X_test2 = X_test2.reshape(*X_test2.shape,1)\n",
    "\n",
    "y_test2 = ohe.fit_transform(np.array(y_test).reshape(-1,1))\n",
    "#tmp = y_test2.shape\n",
    "#y_test2 = y_test2.reshape(*tmp,1)"
   ]
  },
  {
   "cell_type": "markdown",
   "metadata": {},
   "source": [
    "### NN"
   ]
  },
  {
   "cell_type": "code",
   "execution_count": 39,
   "metadata": {},
   "outputs": [],
   "source": [
    "model = Sequential([\n",
    "    Dense(16, input_shape = X_train2[0].shape, activation=relu, kernel_regularizer = L2(1e-4)),\n",
    "    Dense(32, activation=relu, kernel_regularizer = L2(1e-4)),\n",
    "    Dense(16, activation=relu, kernel_regularizer = L2(1e-4)),\n",
    "    Flatten(),\n",
    "    Dense(4, activation='softmax', kernel_regularizer = L2(1e-4))\n",
    "])\n",
    "\n",
    "model.compile(loss='categorical_crossentropy', optimizer=Adam(), metrics=['accuracy'])"
   ]
  },
  {
   "cell_type": "code",
   "execution_count": 305,
   "metadata": {},
   "outputs": [],
   "source": [
    "#model.save('model2.h5')"
   ]
  },
  {
   "cell_type": "code",
   "execution_count": 40,
   "metadata": {},
   "outputs": [
    {
     "name": "stdout",
     "output_type": "stream",
     "text": [
      "282/282 [==============================] - 614s 2s/step - loss: 0.9398 - accuracy: 0.7063 - val_loss: 0.5271 - val_accuracy: 0.8207\n",
      "49/49 [==============================] - 31s 632ms/step - loss: 0.5271 - accuracy: 0.8207\n",
      "accuracy =  0.820742666721344\n"
     ]
    }
   ],
   "source": [
    "model.fit(X_train2, y_train2, epochs=1, batch_size=50,verbose=1,validation_data = [X_test2,y_test2])\n",
    "res = model.evaluate(X_test2,y_test2)\n",
    "print('accuracy = ', res[1])"
   ]
  },
  {
   "cell_type": "code",
   "execution_count": 43,
   "metadata": {},
   "outputs": [],
   "source": [
    "best_model = keras.models.load_model('model2.h5')"
   ]
  },
  {
   "cell_type": "code",
   "execution_count": 42,
   "metadata": {},
   "outputs": [
    {
     "name": "stdout",
     "output_type": "stream",
     "text": [
      "Model: \"sequential_13\"\n",
      "_________________________________________________________________\n",
      " Layer (type)                Output Shape              Param #   \n",
      "=================================================================\n",
      " dense_52 (Dense)            (None, 16287, 16)         32        \n",
      "                                                                 \n",
      " dense_53 (Dense)            (None, 16287, 32)         544       \n",
      "                                                                 \n",
      " dense_54 (Dense)            (None, 16287, 16)         528       \n",
      "                                                                 \n",
      " flatten_13 (Flatten)        (None, 260592)            0         \n",
      "                                                                 \n",
      " dense_55 (Dense)            (None, 4)                 1042372   \n",
      "                                                                 \n",
      "=================================================================\n",
      "Total params: 1,043,476\n",
      "Trainable params: 1,043,476\n",
      "Non-trainable params: 0\n",
      "_________________________________________________________________\n"
     ]
    }
   ],
   "source": [
    "best_model.summary()"
   ]
  },
  {
   "cell_type": "code",
   "execution_count": 307,
   "metadata": {},
   "outputs": [
    {
     "name": "stdout",
     "output_type": "stream",
     "text": [
      "49/49 [==============================] - 7s 137ms/step - loss: 0.4940 - accuracy: 0.8342\n",
      "accuracy =  0.8341869115829468\n"
     ]
    }
   ],
   "source": [
    "res = best_model.evaluate(X_test2,y_test2)\n",
    "print('accuracy = ', res[1])"
   ]
  },
  {
   "cell_type": "markdown",
   "metadata": {},
   "source": [
    "5. Отправить лучший результат на https://www.kaggle.com/competitions/swiss-dialect-identification/overview"
   ]
  },
  {
   "cell_type": "markdown",
   "metadata": {},
   "source": [
    "6. (дополнительно на 10 баллов) Обучить модель `Word2Vec` или `Doc2Vec` на предложенном корпусе текста, выделить эмбендинги при помощи полученной модели, затем обучить выбранные модели классификации на них и оценить качество работы моделей на эмбендингах."
   ]
  },
  {
   "cell_type": "code",
   "execution_count": 86,
   "metadata": {
    "collapsed": true
   },
   "outputs": [
    {
     "name": "stdout",
     "output_type": "stream",
     "text": [
      "Collecting smart-openNote: you may need to restart the kernel to use updated packages.\n",
      "\n",
      "  Using cached smart_open-6.2.0-py3-none-any.whl (58 kB)\n",
      "Installing collected packages: smart-open\n",
      "Successfully installed smart-open-6.2.0\n"
     ]
    },
    {
     "name": "stderr",
     "output_type": "stream",
     "text": [
      "\n",
      "[notice] A new release of pip available: 22.3 -> 22.3.1\n",
      "[notice] To update, run: c:\\users\\roman\\appdata\\local\\programs\\python\\python39\\python.exe -m pip install --upgrade pip\n"
     ]
    }
   ],
   "source": [
    "pip install smart-open"
   ]
  },
  {
   "cell_type": "code",
   "execution_count": 91,
   "metadata": {
    "collapsed": true
   },
   "outputs": [
    {
     "name": "stdout",
     "output_type": "stream",
     "text": [
      "Collecting gensimNote: you may need to restart the kernel to use updated packages.\n",
      "  Using cached gensim-4.2.0-cp39-cp39-win_amd64.whl (23.9 MB)\n",
      "Requirement already satisfied: numpy>=1.17.0 in c:\\users\\roman\\appdata\\local\\programs\\python\\python39\\lib\\site-packages (from gensim) (1.20.1)\n",
      "Requirement already satisfied: smart-open>=1.8.1 in c:\\users\\roman\\appdata\\local\\programs\\python\\python39\\lib\\site-packages (from gensim) (6.2.0)\n",
      "Requirement already satisfied: scipy>=0.18.1 in c:\\users\\roman\\appdata\\local\\programs\\python\\python39\\lib\\site-packages (from gensim) (1.9.1)\n",
      "Collecting Cython==0.29.28\n",
      "  Using cached Cython-0.29.28-py2.py3-none-any.whl (983 kB)\n"
     ]
    },
    {
     "name": "stderr",
     "output_type": "stream",
     "text": [
      "\n",
      "[notice] A new release of pip available: 22.3 -> 22.3.1\n",
      "[notice] To update, run: c:\\users\\roman\\appdata\\local\\programs\\python\\python39\\python.exe -m pip install --upgrade pip\n"
     ]
    },
    {
     "name": "stdout",
     "output_type": "stream",
     "text": [
      "\n",
      "Installing collected packages: Cython, gensim\n",
      "Successfully installed Cython-0.29.28 gensim-4.2.0\n"
     ]
    }
   ],
   "source": [
    "pip install gensim"
   ]
  },
  {
   "cell_type": "code",
   "execution_count": 90,
   "metadata": {},
   "outputs": [],
   "source": [
    "import smart_open\n",
    "import gensim"
   ]
  },
  {
   "cell_type": "code",
   "execution_count": 91,
   "metadata": {},
   "outputs": [],
   "source": [
    "def read_corpus(fname, tokens_only=False):\n",
    "    with smart_open.open(fname, encoding='utf-8') as f:\n",
    "        for i, line in enumerate(f):\n",
    "            if line.startswith('Text'):\n",
    "                continue\n",
    "            tokens = gensim.utils.simple_preprocess(\",\".join(line.split(',')[:-1]))\n",
    "            if tokens_only:\n",
    "                yield tokens\n",
    "            else:\n",
    "                # For training data, add tags\n",
    "                yield gensim.models.doc2vec.TaggedDocument(tokens, [i])"
   ]
  },
  {
   "cell_type": "code",
   "execution_count": 92,
   "metadata": {},
   "outputs": [],
   "source": [
    "train_corpus = list(read_corpus('data/train.csv'))"
   ]
  },
  {
   "cell_type": "code",
   "execution_count": 93,
   "metadata": {},
   "outputs": [],
   "source": [
    "model = gensim.models.doc2vec.Doc2Vec(vector_size=50, min_count=2, epochs=40)"
   ]
  },
  {
   "cell_type": "code",
   "execution_count": 94,
   "metadata": {},
   "outputs": [],
   "source": [
    "model.build_vocab(train_corpus)"
   ]
  },
  {
   "cell_type": "code",
   "execution_count": 95,
   "metadata": {},
   "outputs": [],
   "source": [
    "model.train(train_corpus, total_examples=model.corpus_count, epochs=model.epochs)"
   ]
  },
  {
   "cell_type": "code",
   "execution_count": null,
   "metadata": {},
   "outputs": [],
   "source": []
  },
  {
   "cell_type": "code",
   "execution_count": null,
   "metadata": {},
   "outputs": [],
   "source": []
  },
  {
   "cell_type": "markdown",
   "metadata": {},
   "source": [
    "# Kaggle"
   ]
  },
  {
   "cell_type": "code",
   "execution_count": 53,
   "metadata": {},
   "outputs": [],
   "source": [
    "test = pd.read_csv('data/test.csv')"
   ]
  },
  {
   "cell_type": "code",
   "execution_count": 231,
   "metadata": {},
   "outputs": [],
   "source": [
    "tf_test = tfidf.transform(test.Text)"
   ]
  },
  {
   "cell_type": "code",
   "execution_count": 232,
   "metadata": {},
   "outputs": [],
   "source": [
    "pred = sgd.predict(tf_test)"
   ]
  },
  {
   "cell_type": "code",
   "execution_count": 238,
   "metadata": {},
   "outputs": [],
   "source": [
    "pred_label = le.inverse_transform(pred)"
   ]
  },
  {
   "cell_type": "code",
   "execution_count": 244,
   "metadata": {},
   "outputs": [],
   "source": [
    "pd.DataFrame({\"Id\":test.Id,\"Prediction\": pred_label}).to_csv('mysub_nn.csv', index=False)"
   ]
  },
  {
   "cell_type": "code",
   "execution_count": null,
   "metadata": {},
   "outputs": [],
   "source": []
  },
  {
   "cell_type": "code",
   "execution_count": null,
   "metadata": {},
   "outputs": [],
   "source": []
  },
  {
   "cell_type": "code",
   "execution_count": null,
   "metadata": {},
   "outputs": [],
   "source": []
  },
  {
   "cell_type": "code",
   "execution_count": 54,
   "metadata": {},
   "outputs": [
    {
     "data": {
      "text/plain": [
       "(2500, 16287)"
      ]
     },
     "execution_count": 54,
     "metadata": {},
     "output_type": "execute_result"
    }
   ],
   "source": [
    "cnt_test = tfidf.transform(test.Text)\n",
    "cnt_test.toarray().shape"
   ]
  },
  {
   "cell_type": "code",
   "execution_count": 55,
   "metadata": {},
   "outputs": [],
   "source": [
    "cnt_test2 = np.array(cnt_test.toarray())\n",
    "cnt_test2 = cnt_test2.reshape(*cnt_test2.shape,1)"
   ]
  },
  {
   "cell_type": "code",
   "execution_count": 56,
   "metadata": {},
   "outputs": [],
   "source": [
    "best_model = keras.models.load_model('model2.h5')"
   ]
  },
  {
   "cell_type": "code",
   "execution_count": 57,
   "metadata": {},
   "outputs": [
    {
     "name": "stdout",
     "output_type": "stream",
     "text": [
      "79/79 [==============================] - 11s 130ms/step\n"
     ]
    }
   ],
   "source": [
    "pred = best_model.predict(cnt_test2)"
   ]
  },
  {
   "cell_type": "code",
   "execution_count": 69,
   "metadata": {},
   "outputs": [],
   "source": [
    "pred_label = ohe.inverse_transform(pred)\n",
    "pred_label = le.inverse_transform(pred_label.reshape(1,-1)[0])"
   ]
  },
  {
   "cell_type": "code",
   "execution_count": 70,
   "metadata": {},
   "outputs": [],
   "source": [
    "pd.DataFrame({\"Id\":test.Id,\"Prediction\": pred_label}).to_csv('mysub_nn.csv', index=False)"
   ]
  },
  {
   "cell_type": "markdown",
   "metadata": {},
   "source": [
    "Help links:\n",
    "\n",
    "- https://scikit-learn.org/stable/modules/generated/sklearn.feature_extraction.text.CountVectorizer.html\n",
    "- https://scikit-learn.org/stable/modules/generated/sklearn.feature_extraction.text.TfidfVectorizer.html\n",
    "- https://www.nltk.org/api/nltk.lm.html\n",
    "- https://towardsdatascience.com/a-beginners-guide-to-word-embedding-with-gensim-word2vec-model-5970fa56cc92"
   ]
  }
 ],
 "metadata": {
  "kernelspec": {
   "display_name": "Python 3 (ipykernel)",
   "language": "python",
   "name": "python3"
  },
  "language_info": {
   "codemirror_mode": {
    "name": "ipython",
    "version": 3
   },
   "file_extension": ".py",
   "mimetype": "text/x-python",
   "name": "python",
   "nbconvert_exporter": "python",
   "pygments_lexer": "ipython3",
   "version": "3.9.1"
  }
 },
 "nbformat": 4,
 "nbformat_minor": 4
}
