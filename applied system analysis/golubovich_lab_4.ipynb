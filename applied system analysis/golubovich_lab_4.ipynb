{
 "cells": [
  {
   "cell_type": "markdown",
   "id": "ddf20198",
   "metadata": {},
   "source": [
    "# Лабораторная работа 4\n",
    "\n",
    "## Общая информация\n",
    "\n",
    "**Дата выдачи**: 21.10.2022/24.10.2022\n",
    "\n",
    "**Срок сдачи**: 04.11.2022/08.11.2022 *(Но требуется обязательная демонстрация текущего прогресса преподавателю во время лабораторного занятия 28.10.2022/31.10.2022)*\n",
    "\n",
    "### О задании\n",
    "Целью данного задания является попытка создания собственных признаков (feature engineering), обучение и измерение качества моделей нейронных сетей при помощи фреймворка *Keras*. \n",
    "\n",
    "### Оценивание и штрафы\n",
    "Максимально допустимая оценка за работу — 10 баллов.\n",
    "\n",
    "Сдача заданий после указанного срока сдачи ведёт к снижению оценки.\n",
    "\n",
    "Задание выполняется САМОСТОЯТЕЛЬНО. «Похожие» решения считаются плагиатом и все задействованные студенты (в том числе те, у кого списали) не могут получить за него больше 0 баллов. Если вы нашли решение какого-то из заданий в открытом источнике, необходимо прислать ссылку на этот источник (скорее всего вы будете не единственным, кто это нашел, поэтому чтобы исключить подозрение в плагиате, необходима ссылка на источник). \n",
    "\n",
    "### Формат сдачи\n",
    "Устная защита выполненной лабораторной работы ОБЯЗАТЕЛЬНА!\n",
    "\n",
    "После успешной устной защиты переименуйте получившийся файл `*.ipynb` в соответствии со следующим форматом: *Username_lab_4.ipynb*, где Username — ваша фамилия на латинице (например, `lehusheu_lab_4.ipynb`) и отправьте этот файл электронной почтой по адресу `dmitri.legushev.bsu@gmail.com` c темой письма *Фамилия преподавателя - Лабораторная работа 2 - Фамилия Имя Отчество* (для обоих подгрупп). Подгруппа Атрохова Кирилла Георгиевича также ставит в копию адрес `kiryl.atrokhau+ml2022@gmail.com`. Это будет являться письменным отчетом о выполнении лабораторной работы."
   ]
  },
  {
   "cell_type": "markdown",
   "id": "6f2b0bae",
   "metadata": {},
   "source": [
    "**Задача:** Используя нейронные сети, создать модели, которые предсказывают какой пассажир \n",
    "    выжил после крушения на Титанике. \n",
    "\n",
    "**Данные:** Титаник\n",
    "\n",
    "**Подробнее о данных:** https://www.kaggle.com/competitions/titanic/data"
   ]
  },
  {
   "cell_type": "code",
   "execution_count": 2,
   "id": "1079a790",
   "metadata": {},
   "outputs": [],
   "source": [
    "#pip install tensorflow --user"
   ]
  },
  {
   "cell_type": "code",
   "execution_count": 423,
   "id": "1ea03588",
   "metadata": {},
   "outputs": [],
   "source": [
    "import pandas as pd\n",
    "import numpy as np\n",
    "import seaborn as sns\n",
    "from matplotlib import pyplot as plt\n",
    "from sklearn.preprocessing import LabelEncoder,OneHotEncoder\n",
    "from sklearn.preprocessing import MinMaxScaler, StandardScaler,PolynomialFeatures,RobustScaler\n",
    "from sklearn.model_selection import train_test_split\n",
    "from sklearn.metrics import classification_report,accuracy_score\n",
    "from sklearn.linear_model import LogisticRegression\n",
    "from sklearn.svm import SVC\n",
    "from sklearn.neighbors import KNeighborsClassifier\n",
    "from sklearn.naive_bayes import GaussianNB\n",
    "from sklearn.model_selection import cross_val_score\n",
    "from sklearn.tree import DecisionTreeClassifier\n",
    "from sklearn.ensemble import RandomForestClassifier\n",
    "from sklearn.datasets import make_classification\n",
    "from sklearn.ensemble import GradientBoostingClassifier\n",
    "from tensorflow.keras import Sequential\n",
    "from tensorflow.keras.layers import Dense,Dropout\n",
    "from tensorflow.keras.activations import softmax,tanh,relu,sigmoid\n",
    "from tensorflow.keras.metrics import Accuracy,Precision,AUC,FalseNegatives,FalsePositives,TrueNegatives,TruePositives,MSE\n",
    "from tensorflow.keras import regularizers\n",
    "from tensorflow.keras.losses import BinaryCrossentropy\n",
    "from tensorflow.keras.optimizers import SGD,Adam,Adamax\n",
    "from tensorflow.keras.optimizers.schedules import ExponentialDecay\n",
    "from tensorflow.keras.regularizers import L1,L2,L1L2\n",
    "from tensorflow.keras.callbacks import EarlyStopping,ReduceLROnPlateau\n",
    "from livelossplot import PlotLossesKeras\n",
    "from itertools import permutations,product\n",
    "from sklearn.decomposition import PCA\n",
    "from sklearn.manifold import TSNE"
   ]
  },
  {
   "cell_type": "markdown",
   "id": "1e6d0816",
   "metadata": {},
   "source": [
    "**0.** \n",
    "Установить фреймворк Keras. \n",
    "\n",
    "Загрузить данные для обучения и теста, найти признаки с пропущенными значениями."
   ]
  },
  {
   "cell_type": "code",
   "execution_count": 424,
   "id": "d94cc2f2",
   "metadata": {},
   "outputs": [],
   "source": [
    "train = pd.read_csv('data/train.csv')\n",
    "test = pd.read_csv('data/test.csv')"
   ]
  },
  {
   "cell_type": "code",
   "execution_count": 425,
   "id": "da871c77",
   "metadata": {},
   "outputs": [],
   "source": [
    "train.Age = train.Age.fillna(train.Age.median())\n",
    "train.Cabin = train.Cabin.fillna(\"Unknown_Cabin\")\n",
    "train.Embarked = train.Embarked.fillna(\"Unknown_Embarked\")\n",
    "train = train.drop(columns='PassengerId',axis=1)"
   ]
  },
  {
   "cell_type": "markdown",
   "id": "5e3750d0",
   "metadata": {},
   "source": [
    "**1.** Необхоимо расширить датасет новыми признаками. Например, добавить полиномиальные признаки (sklearn.preprocessing.PolynomialFeatures) и/или на основе признаков SibSp, Age, Name, Pclass, Parch, Ticket и др. сформировать новые (Например из признака Age, можно сделать категориальную фичу, например 1-20 - 0, 21-40 - 1, 41-100 - 3; распарсить фичу Name, где можно вычленить информации о статусе человека)."
   ]
  },
  {
   "cell_type": "code",
   "execution_count": 426,
   "id": "5989a790",
   "metadata": {},
   "outputs": [],
   "source": [
    "train = train.drop(columns='Ticket',axis=1)"
   ]
  },
  {
   "cell_type": "code",
   "execution_count": 427,
   "id": "98c93e36",
   "metadata": {},
   "outputs": [],
   "source": [
    "bins = [0,18,50,100]"
   ]
  },
  {
   "cell_type": "code",
   "execution_count": 428,
   "id": "fb568f92",
   "metadata": {},
   "outputs": [],
   "source": [
    "for i in range(len(bins)-1):\n",
    "    train.loc[(train.Age>=bins[i]) & ((train.Age<bins[i+1])),'Age'] = i"
   ]
  },
  {
   "cell_type": "code",
   "execution_count": 429,
   "id": "273042bb",
   "metadata": {},
   "outputs": [],
   "source": [
    "le_Sex = LabelEncoder()\n",
    "le_Embarked = LabelEncoder()\n",
    "train.Sex = le_Sex.fit_transform(train.Sex)\n",
    "train.Embarked = le_Embarked.fit_transform(train.Embarked)"
   ]
  },
  {
   "cell_type": "code",
   "execution_count": 430,
   "id": "dcb08b52",
   "metadata": {},
   "outputs": [],
   "source": [
    "le_CabinLetter = LabelEncoder()\n",
    "train.loc[:,'CabinLetter'] = train.Cabin.str.get(0)\n",
    "train = train.drop(columns='Cabin',axis=1)\n",
    "train.CabinLetter = le_CabinLetter.fit_transform(train.CabinLetter)"
   ]
  },
  {
   "cell_type": "code",
   "execution_count": 431,
   "id": "f99bbdd3",
   "metadata": {},
   "outputs": [
    {
     "data": {
      "text/plain": [
       "array(['Mr', 'Mrs', 'Miss', 'Master', 'Don', 'Rev', 'Dr', 'Mme', 'Ms',\n",
       "       'Major', 'Lady', 'Sir', 'Mlle', 'Col', 'Capt', 'the Countess',\n",
       "       'Jonkheer', 'Dona'], dtype=object)"
      ]
     },
     "execution_count": 431,
     "metadata": {},
     "output_type": "execute_result"
    }
   ],
   "source": [
    "tmp1 = train.Name.str.split(',').str.get(1).str.split('.').str.get(0).str.strip()\n",
    "tmp2 = test.Name.str.split(',').str.get(1).str.split('.').str.get(0).str.strip()\n",
    "pd.concat([tmp1,tmp2]).unique()"
   ]
  },
  {
   "cell_type": "code",
   "execution_count": 432,
   "id": "8548273c",
   "metadata": {},
   "outputs": [],
   "source": [
    "dct = {}\n",
    "for i in [\"Mr\",\"Mrs\",\"Ms\",\"Mme\",\"Miss\"]:\n",
    "    dct[i]=\"Human\"\n",
    "for i in [\"Master\", \"Don\",\"Lady\", \"Sir\", \"the Countes\", \"Jonkheer\",\"Dona\"]:\n",
    "    dct[i] = \"Superhuman\"\n",
    "for i in ['Rev', 'Dr','Major','Mlle', 'Col', 'Capt']:\n",
    "    dct[i] = \"Rank\"\n",
    "train.Name=tmp1\n",
    "train = train.replace({\"Name\":dct})\n"
   ]
  },
  {
   "cell_type": "code",
   "execution_count": 433,
   "id": "f0b96812",
   "metadata": {},
   "outputs": [],
   "source": [
    "ohe = OneHotEncoder(sparse=False,handle_unknown='ignore')\n",
    "ohe.fit([[\"Human\"],[\"Superhuman\"],[\"Rank\"]])\n",
    "train[[\"Human\", \"Superhuman\",\"Rank\"]]=ohe.transform(np.array(train.Name).reshape(-1,1))\n",
    "train = train.drop(columns='Name',axis=1)"
   ]
  },
  {
   "cell_type": "code",
   "execution_count": 384,
   "id": "ffbbb975",
   "metadata": {},
   "outputs": [],
   "source": [
    "poly_cols = ['Sex','Age','SibSp','Parch']\n",
    "poly = PolynomialFeatures(2,interaction_only=True,include_bias=False)\n",
    "tmp = poly.fit_transform(train[poly_cols])\n",
    "train = train.drop(columns=poly_cols,axis=1)\n",
    "train[poly.get_feature_names_out()] = tmp"
   ]
  },
  {
   "cell_type": "code",
   "execution_count": 434,
   "id": "402b4c60",
   "metadata": {},
   "outputs": [
    {
     "data": {
      "text/plain": [
       "<AxesSubplot:>"
      ]
     },
     "execution_count": 434,
     "metadata": {},
     "output_type": "execute_result"
    },
    {
     "data": {
      "image/png": "[encoded data removed]",
      "text/plain": [
       "<Figure size 432x288 with 2 Axes>"
      ]
     },
     "metadata": {
      "needs_background": "light"
     },
     "output_type": "display_data"
    }
   ],
   "source": [
    "sns.heatmap(train.corr())"
   ]
  },
  {
   "cell_type": "markdown",
   "id": "1a73131a",
   "metadata": {},
   "source": [
    "**2.** Необходимо нормализовать данные. Для числовых - по одной из стратегий (MinMax, StandartScaler и др.). Для категориальных - применить OneHotEncoder. Разделить полученный датасет на train и validation."
   ]
  },
  {
   "cell_type": "code",
   "execution_count": 435,
   "id": "1f8ba0c5",
   "metadata": {},
   "outputs": [],
   "source": [
    "scaler = StandardScaler()\n",
    "train_copy = train.copy()\n",
    "train = pd.DataFrame(scaler.fit_transform(train),columns=train.keys())"
   ]
  },
  {
   "cell_type": "code",
   "execution_count": 436,
   "id": "21656505",
   "metadata": {},
   "outputs": [],
   "source": [
    "X_train, X_test, y_train, y_test = train_test_split(train.drop('Survived',axis=1), train_copy.Survived, random_state=42, test_size=20)"
   ]
  },
  {
   "cell_type": "markdown",
   "id": "fb109efa",
   "metadata": {},
   "source": [
    "**3.** Используя фреймворк Keras необходимо реализовать однослойную и многослойную модель нейронной сети.\n",
    "\n",
    "Необходимо попробовать:\n",
    "1) Встроить разные функции активации в слоях (ReLU, sigmoid и др.)\n",
    "\n",
    "2) Обучить модели на слоях с Dropout и без.\n",
    "\n",
    "3) Встроить регуляризацию в слои (L1, L2, L1L2)\n",
    "\n",
    "4) Обучить модели с разными оптимизаторами лоса (SGD, Adam и др.)\n",
    "\n",
    "5) Обучить модели с подбором learning_rate в оптимизаторах лоса. Попробовать технику step decay.\n",
    "\n",
    "6) Обучить модели с разным числом эпох. Попробовать callback - EarlyStopping.\n",
    "\n",
    "Для каждого эксперимента необходимо:\n",
    "1. Построить графики лоса. \n",
    "\n",
    "Отрисовать history (возвращаемый список метода fit), либо для отслеживания обучения в реальном времени можно применить callback - PlotLossesKeras (from livelossplot import PlotLossesKeras). В функции fit указать callbacks=[PlotLossesKeras()].\n",
    "\n",
    "\n",
    "2. Снять метрики (не только accuracy, но и f1, recall, precision. **Tip**: sklearn) \n",
    "\n",
    "Также можно отслеживать метрики во время обучения: metrics=[tf.keras.metrics.Precision(), ..].\n",
    "\n",
    "3. Сделать выводы.\n",
    "\n",
    "**Tips**: Очень важно недопустить переобучения моделей. Для этого необходимо:\n",
    "\n",
    "1) Так как данных не так уж и много, то не делать слишком много слоев (мы ограничиваемся 2-3 слоями).\n",
    "\n",
    "2) Не указывать число эпох слишком большим (10-20-30). На графике функции потерь можно отследить на какой эпохе тренировочные данные начинают \"заучивать\" данные, а на графике валидационного лоса происходит рост функции потерь. Для этого применяют раннюю остановку обучения - EarlyStopping.\n",
    "\n",
    "3) Применять Dropout, регуляризации L1/L2/L1L2.\n",
    "\n"
   ]
  },
  {
   "cell_type": "code",
   "execution_count": 19,
   "id": "c96ddb8c",
   "metadata": {},
   "outputs": [],
   "source": [
    "MSE??"
   ]
  },
  {
   "cell_type": "code",
   "execution_count": 330,
   "id": "aa16d365",
   "metadata": {},
   "outputs": [],
   "source": [
    "#metrics = [Precision(),AUC(),FalseNegatives(),FalsePositives()]\n",
    "metrics= []"
   ]
  },
  {
   "cell_type": "code",
   "execution_count": 147,
   "id": "44b98201",
   "metadata": {},
   "outputs": [],
   "source": [
    "model = Sequential(\n",
    "    [\n",
    "        Dense(units=16,input_dim=X_train.shape[1], activation=relu,kernel_regularizer=L1L2(1e-4,1e-4)),\n",
    "        Dense(units=1, activation=sigmoid)\n",
    "    ]   \n",
    ")"
   ]
  },
  {
   "cell_type": "code",
   "execution_count": 195,
   "id": "a7649d9b",
   "metadata": {},
   "outputs": [],
   "source": [
    "#0.789\n",
    "model = Sequential(\n",
    "    [\n",
    "        Dense(units=16,input_dim=X_train.shape[1], activation=relu,kernel_regularizer=L1L2(1e-3,1e-4)),\n",
    "        Dense(units=64, activation=relu,kernel_regularizer=L1L2(1e-3,1e-4)),\n",
    "        Dropout(0.3),\n",
    "        Dense(units=8, activation=relu,kernel_regularizer=L1L2(1e-3,1e-4)),\n",
    "        Dropout(0.3),\n",
    "        Dense(units=1, activation=sigmoid)\n",
    "    ]   \n",
    ")"
   ]
  },
  {
   "cell_type": "code",
   "execution_count": 447,
   "id": "35c797e9",
   "metadata": {},
   "outputs": [],
   "source": [
    "model = Sequential(\n",
    "    [\n",
    "        Dense(units=32,input_dim=X_train.shape[1], activation=relu,kernel_regularizer=L1L2(1e-4,1e-5)),\n",
    "        Dropout(0.3),\n",
    "        Dense(units=64, activation=relu,kernel_regularizer=L1L2(1e-4,1e-5)),\n",
    "        Dropout(0.5),\n",
    "        Dense(units=1,activation=sigmoid)\n",
    "    ]   \n",
    ")"
   ]
  },
  {
   "cell_type": "code",
   "execution_count": 448,
   "id": "98b1d5ad",
   "metadata": {},
   "outputs": [
    {
     "data": {
      "image/png": "[encoded data removed]",
      "text/plain": [
       "<Figure size 864x576 with 2 Axes>"
      ]
     },
     "metadata": {
      "needs_background": "light"
     },
     "output_type": "display_data"
    },
    {
     "name": "stdout",
     "output_type": "stream",
     "text": [
      "Loss\n",
      "\tloss             \t (min:    0.425, max:    0.641, cur:    0.435)\n"
     ]
    }
   ],
   "source": [
    "\"\"\"\n",
    "lr_schedule = ExponentialDecay(\n",
    "    initial_learning_rate=1e-2,\n",
    "    decay_steps=10000,\n",
    "    decay_rate=0.9)\n",
    "\"\"\"\n",
    "\n",
    "model.compile(loss=BinaryCrossentropy(), optimizer=Adam(),metrics=metrics)\n",
    "\n",
    "callback = EarlyStopping(monitor='loss', patience=5)\n",
    "\n",
    "history = model.fit(X_train, y_train, epochs=150, batch_size=5,verbose=0,callbacks=[PlotLossesKeras(),callback])\n",
    "#y = history.history['accuracy']\n",
    "#x = list(range(len(y)))"
   ]
  },
  {
   "cell_type": "code",
   "execution_count": 449,
   "id": "773c2db2",
   "metadata": {},
   "outputs": [
    {
     "name": "stdout",
     "output_type": "stream",
     "text": [
      "1/1 [==============================] - 0s 53ms/step\n",
      "              precision    recall  f1-score   support\n",
      "\n",
      "           0       1.00      0.91      0.95        11\n",
      "           1       0.90      1.00      0.95         9\n",
      "\n",
      "    accuracy                           0.95        20\n",
      "   macro avg       0.95      0.95      0.95        20\n",
      "weighted avg       0.96      0.95      0.95        20\n",
      "\n",
      "0.060400955\n",
      "2.294612195342779\n"
     ]
    }
   ],
   "source": [
    "tmp = model.predict(X_test).reshape(1,-1)[0]\n",
    "pred = np.array(tmp>0.5,dtype='int32')\n",
    "print(classification_report(pred,y_test))\n",
    "print(MSE(y_test,tmp).numpy())\n",
    "print(sum((tmp-0.5)**2))"
   ]
  },
  {
   "cell_type": "code",
   "execution_count": 450,
   "id": "f7fb434a",
   "metadata": {},
   "outputs": [
    {
     "name": "stdout",
     "output_type": "stream",
     "text": [
      "1 0.8024596\n",
      "0 0.14738369\n",
      "0 0.11139527\n",
      "1 0.94336116\n",
      "1 0.7672175\n",
      "1 0.9808812\n",
      "1 0.67052096\n",
      "0 0.06073717\n",
      "1 0.77561355\n",
      "1 0.9711227\n",
      "0 0.42255726\n",
      "0 0.11157672\n",
      "0 0.25587094\n",
      "0 0.16387932\n",
      "0 0.15170737\n",
      "1 0.9857014\n",
      "1 0.42015034\n",
      "1 0.6708707\n",
      "0 0.08126771\n",
      "0 0.39493063\n"
     ]
    }
   ],
   "source": [
    "for i,j in zip(*[tmp,y_test]):\n",
    "    print(j,i)"
   ]
  },
  {
   "cell_type": "code",
   "execution_count": null,
   "id": "8cfca684",
   "metadata": {},
   "outputs": [],
   "source": []
  },
  {
   "cell_type": "code",
   "execution_count": null,
   "id": "0faf1e89",
   "metadata": {},
   "outputs": [],
   "source": []
  },
  {
   "cell_type": "code",
   "execution_count": null,
   "id": "9fa0e38a",
   "metadata": {},
   "outputs": [],
   "source": []
  },
  {
   "cell_type": "code",
   "execution_count": null,
   "id": "c1b323ca",
   "metadata": {},
   "outputs": [],
   "source": []
  },
  {
   "cell_type": "code",
   "execution_count": null,
   "id": "22a652d7",
   "metadata": {},
   "outputs": [],
   "source": []
  },
  {
   "cell_type": "code",
   "execution_count": null,
   "id": "686f6899",
   "metadata": {},
   "outputs": [],
   "source": []
  },
  {
   "cell_type": "code",
   "execution_count": null,
   "id": "3fb6c593",
   "metadata": {},
   "outputs": [],
   "source": []
  },
  {
   "cell_type": "code",
   "execution_count": null,
   "id": "fb256588",
   "metadata": {},
   "outputs": [],
   "source": []
  },
  {
   "cell_type": "code",
   "execution_count": null,
   "id": "4e4166a6",
   "metadata": {},
   "outputs": [],
   "source": []
  },
  {
   "cell_type": "markdown",
   "id": "a7503f0c",
   "metadata": {},
   "source": [
    "**4.** Отправить лучший результат на https://www.kaggle.com"
   ]
  },
  {
   "cell_type": "code",
   "execution_count": 437,
   "id": "3f05a90c",
   "metadata": {},
   "outputs": [],
   "source": [
    "test = pd.read_csv('data/test.csv')"
   ]
  },
  {
   "cell_type": "code",
   "execution_count": 438,
   "id": "d09d0c4c",
   "metadata": {},
   "outputs": [],
   "source": [
    "test.Age = test.Age.fillna(test.Age.median())\n",
    "test.Cabin = test.Cabin.fillna(\"Unknown_Cabin\")\n",
    "test.Embarked = test.Embarked.fillna(\"Unknown_Embarked\")\n",
    "for i in test.Pclass.unique():\n",
    "    test.loc[test.Pclass==i,'Fare'] = test.loc[test.Pclass==i,'Fare'].fillna(test.loc[test.Pclass==i,'Fare'].median())\n",
    "PasId = test.PassengerId\n",
    "test = test.drop(columns='PassengerId',axis=1)\n",
    "\n",
    "test = test.drop(columns='Ticket',axis=1)\n",
    "\n"
   ]
  },
  {
   "cell_type": "code",
   "execution_count": 439,
   "id": "1a1e3030",
   "metadata": {},
   "outputs": [],
   "source": [
    "bins = [0,18,50,100]\n",
    "for i in range(len(bins)-1):\n",
    "    test.loc[(test.Age>=bins[i]) & ((test.Age<bins[i+1])),'Age'] = i\n",
    "\n",
    "test.Sex = le_Sex.transform(test.Sex)\n",
    "test.Embarked = le_Embarked.transform(test.Embarked)\n",
    "\n",
    "test.loc[:,'CabinLetter'] = test.Cabin.str.get(0)\n",
    "test = test.drop(columns='Cabin',axis=1)\n",
    "test.CabinLetter = le_CabinLetter.fit_transform(test.CabinLetter)\n",
    "\n",
    "\n",
    "\n",
    "tmp2 = test.Name.str.split(',').str.get(1).str.split('.').str.get(0).str.strip()\n",
    "test.Name=tmp2\n",
    "test = test.replace({\"Name\":dct})"
   ]
  },
  {
   "cell_type": "code",
   "execution_count": 440,
   "id": "83401dbd",
   "metadata": {},
   "outputs": [],
   "source": [
    "ohe = OneHotEncoder(sparse=False,handle_unknown='ignore')\n",
    "ohe.fit([[\"Human\"],[\"Superhuman\"],[\"Rank\"]])\n",
    "test[[\"Human\", \"Superhuman\",\"Rank\"]]=ohe.transform(np.array(test.Name).reshape(-1,1))\n",
    "test = test.drop(columns='Name',axis=1)"
   ]
  },
  {
   "cell_type": "code",
   "execution_count": 392,
   "id": "9baab5ec",
   "metadata": {},
   "outputs": [],
   "source": [
    "tmp = poly.transform(test[poly_cols])\n",
    "test = test.drop(columns=poly_cols,axis=1)\n",
    "test[poly.get_feature_names_out()] = tmp"
   ]
  },
  {
   "cell_type": "code",
   "execution_count": 441,
   "id": "6097664b",
   "metadata": {},
   "outputs": [],
   "source": [
    "scaler = StandardScaler()\n",
    "test_copy = test.copy()\n",
    "test = pd.DataFrame(scaler.fit_transform(test),columns=test.keys())"
   ]
  },
  {
   "cell_type": "code",
   "execution_count": 442,
   "id": "8438e4fe",
   "metadata": {},
   "outputs": [
    {
     "data": {
      "text/plain": [
       "<AxesSubplot:>"
      ]
     },
     "execution_count": 442,
     "metadata": {},
     "output_type": "execute_result"
    },
    {
     "data": {
      "image/png": "[encoded data removed]",
      "text/plain": [
       "<Figure size 432x288 with 1 Axes>"
      ]
     },
     "metadata": {
      "needs_background": "light"
     },
     "output_type": "display_data"
    }
   ],
   "source": [
    "tmp = PCA(n_components=2).fit_transform(X_train)\n",
    "sns.scatterplot(x=tmp[:,0],y=tmp[:,1])"
   ]
  },
  {
   "cell_type": "code",
   "execution_count": 443,
   "id": "e84e3dd4",
   "metadata": {},
   "outputs": [
    {
     "data": {
      "text/plain": [
       "<AxesSubplot:>"
      ]
     },
     "execution_count": 443,
     "metadata": {},
     "output_type": "execute_result"
    },
    {
     "data": {
      "image/png": "[encoded data removed]",
      "text/plain": [
       "<Figure size 432x288 with 1 Axes>"
      ]
     },
     "metadata": {
      "needs_background": "light"
     },
     "output_type": "display_data"
    }
   ],
   "source": [
    "tmp = TSNE(n_components=2,learning_rate='auto',init='random').fit_transform(X_train)\n",
    "sns.scatterplot(x=tmp[:,0],y=tmp[:,1])"
   ]
  },
  {
   "cell_type": "code",
   "execution_count": 452,
   "id": "4118320b",
   "metadata": {},
   "outputs": [
    {
     "name": "stdout",
     "output_type": "stream",
     "text": [
      "14/14 [==============================] - 0s 1ms/step\n"
     ]
    },
    {
     "data": {
      "text/plain": [
       "array([0, 0, 0, 0, 0, 0, 0, 0, 0, 0, 0, 0, 0, 0, 0, 0, 0, 0, 0, 0, 0, 0,\n",
       "       0, 0, 0, 0, 0, 0, 0, 0, 0, 0, 0, 0, 0, 0, 0, 0, 0, 0, 0, 0, 0, 0,\n",
       "       0, 0, 0, 0, 0, 0, 0, 0, 0, 0, 0, 0, 0, 0, 0, 0, 0, 0, 0, 0, 0, 0,\n",
       "       0, 0, 0, 0, 0, 0, 0, 0, 0, 0, 0, 0, 0, 0, 0, 0, 0, 0, 0, 0, 0, 0,\n",
       "       0, 0, 0, 0, 0, 0, 0, 0, 0, 0, 0, 0, 0, 0, 0, 0, 0, 0, 0, 0, 0, 0,\n",
       "       0, 0, 0, 0, 0, 0, 0, 0, 0, 0, 0, 0, 0, 0, 0, 0, 0, 0, 0, 0, 0, 0,\n",
       "       0, 0, 0, 0, 0, 0, 0, 0, 0, 0, 0, 0, 0, 0, 0, 0, 0, 0, 0, 0, 0, 0,\n",
       "       0, 0, 0, 0, 0, 0, 0, 0, 0, 0, 0, 0, 0, 0, 0, 0, 0, 0, 0, 0, 0, 0,\n",
       "       0, 0, 0, 0, 0, 0, 0, 0, 0, 0, 0, 0, 0, 0, 0, 0, 0, 0, 0, 0, 0, 0,\n",
       "       0, 0, 0, 0, 0, 0, 0, 0, 0, 0, 0, 0, 0, 0, 0, 0, 0, 0, 0, 0, 0, 0,\n",
       "       0, 0, 0, 0, 0, 0, 0, 0, 0, 0, 0, 0, 0, 0, 0, 0, 0, 0, 0, 0, 0, 0,\n",
       "       0, 0, 0, 0, 0, 0, 0, 0, 0, 0, 0, 0, 0, 0, 0, 0, 0, 0, 0, 0, 0, 0,\n",
       "       0, 0, 0, 0, 0, 0, 0, 0, 0, 0, 0, 0, 0, 0, 0, 0, 0, 0, 0, 0, 0, 0,\n",
       "       0, 0, 0, 0, 0, 0, 0, 0, 0, 0, 0, 0, 0, 0, 0, 0, 0, 0, 0, 0, 0, 0,\n",
       "       0, 0, 0, 0, 0, 0, 0, 0, 0, 0, 0, 0, 0, 0, 0, 0, 0, 0, 0, 0, 0, 0,\n",
       "       0, 0, 0, 0, 0, 0, 0, 0, 0, 0, 0, 0, 0, 0, 0, 0, 0, 0, 0, 0, 0, 0,\n",
       "       0, 0, 0, 0, 0, 0, 0, 0, 0, 0, 0, 0, 0, 0, 0, 0, 0, 0, 0, 0, 0, 0,\n",
       "       0, 0, 0, 0, 0, 0, 0, 0, 0, 0, 0, 0, 0, 0, 0, 0, 0, 0, 0, 0, 0, 0,\n",
       "       0, 0, 0, 0, 0, 0, 0, 0, 0, 0, 0, 0, 0, 0, 0, 0, 0, 0, 0, 0, 0, 0])"
      ]
     },
     "execution_count": 452,
     "metadata": {},
     "output_type": "execute_result"
    }
   ],
   "source": [
    "ypred_Xnew - np.array(model.predict(test).reshape(1,-1)[0]>0.5,dtype='int32')"
   ]
  },
  {
   "cell_type": "code",
   "execution_count": 451,
   "id": "b7ad10f4",
   "metadata": {},
   "outputs": [
    {
     "name": "stdout",
     "output_type": "stream",
     "text": [
      "14/14 [==============================] - 0s 1ms/step\n"
     ]
    }
   ],
   "source": [
    "ypred_Xnew = np.array(model.predict(test).reshape(1,-1)[0]>0.5,dtype='int32')"
   ]
  },
  {
   "cell_type": "code",
   "execution_count": 446,
   "id": "ef92a225",
   "metadata": {},
   "outputs": [],
   "source": [
    "submission = pd.DataFrame({'PassengerId': PasId, 'Survived': ypred_Xnew })\n",
    "submission.to_csv(\"submission.csv\", index=False)"
   ]
  },
  {
   "cell_type": "markdown",
   "id": "30f52f59",
   "metadata": {},
   "source": [
    "Help links:\n",
    "- https://machinelearningmastery.com/tutorial-first-neural-network-python-keras/\n",
    "- https://keras.io/about/\n",
    "- https://keras.io/guides/sequential_model/\n",
    "- https://keras.io/api/layers/\n",
    "- https://keras.io/api/callbacks/\n",
    "- https://keras.io/api/optimizers/\n",
    "- https://keras.io/api/losses/\n",
    "- https://towardsdatascience.com/learning-rate-schedules-and-adaptive-learning-rate-methods-for-deep-learning-2c8f433990d1\n",
    "- https://machinelearningmastery.com/display-deep-learning-model-training-history-in-keras/"
   ]
  }
 ],
 "metadata": {
  "kernelspec": {
   "display_name": "Python 3 (ipykernel)",
   "language": "python",
   "name": "python3"
  },
  "language_info": {
   "codemirror_mode": {
    "name": "ipython",
    "version": 3
   },
   "file_extension": ".py",
   "mimetype": "text/x-python",
   "name": "python",
   "nbconvert_exporter": "python",
   "pygments_lexer": "ipython3",
   "version": "3.9.1"
  }
 },
 "nbformat": 4,
 "nbformat_minor": 5
}
